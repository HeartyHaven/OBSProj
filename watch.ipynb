{
 "cells": [
  {
   "cell_type": "code",
   "execution_count": 1,
   "metadata": {},
   "outputs": [],
   "source": [
    "import os\n",
    "filenames=[]\n",
    "for root,dirs,files in os.walk('modern_kanji'):\n",
    "    for file in files:\n",
    "        filenames+=[file]"
   ]
  },
  {
   "cell_type": "code",
   "execution_count": 8,
   "metadata": {},
   "outputs": [
    {
     "data": {
      "text/plain": [
       "True"
      ]
     },
     "execution_count": 8,
     "metadata": {},
     "output_type": "execute_result"
    }
   ],
   "source": [
    "'姪.png' in filenames"
   ]
  },
  {
   "cell_type": "code",
   "execution_count": 10,
   "metadata": {},
   "outputs": [
    {
     "data": {
      "text/plain": [
       "1762"
      ]
     },
     "execution_count": 10,
     "metadata": {},
     "output_type": "execute_result"
    }
   ],
   "source": [
    "len(filenames)"
   ]
  },
  {
   "cell_type": "code",
   "execution_count": 11,
   "metadata": {},
   "outputs": [
    {
     "data": {
      "text/plain": [
       "13714"
      ]
     },
     "execution_count": 11,
     "metadata": {},
     "output_type": "execute_result"
    }
   ],
   "source": [
    "import json\n",
    "with open('/root/autodl-tmp/character-Evolution-Dataset/Key&Value.json','r')as f:\n",
    "    a=json.load(f)\n",
    "    \n",
    "len(a)"
   ]
  },
  {
   "cell_type": "markdown",
   "metadata": {},
   "source": [
    "process data"
   ]
  },
  {
   "cell_type": "code",
   "execution_count": 20,
   "metadata": {},
   "outputs": [],
   "source": [
    "import os\n",
    "filenames=[]\n",
    "for root,dirs,files in os.walk('/root/autodl-tmp/OBS_dataset/HUST-OBS/deciphered'):\n",
    "    for file in files:\n",
    "        if file.endswith('.png'):\n",
    "            file_path=os.path.join(root,file)\n",
    "            file_id=file.split('_')[1]\n",
    "            filenames+=[{\n",
    "                'id':file_id,\n",
    "                'path':file_path,\n",
    "                'name':file\n",
    "            }]"
   ]
  },
  {
   "cell_type": "code",
   "execution_count": 21,
   "metadata": {},
   "outputs": [
    {
     "data": {
      "text/plain": [
       "{'id': '0001',\n",
       " 'path': '/root/autodl-tmp/OBS_dataset/HUST-OBS/deciphered/0001/G_0001_後2.36.5合33075𠂤歷間.png',\n",
       " 'name': 'G_0001_後2.36.5合33075𠂤歷間.png'}"
      ]
     },
     "execution_count": 21,
     "metadata": {},
     "output_type": "execute_result"
    }
   ],
   "source": [
    "filenames[0]"
   ]
  },
  {
   "cell_type": "code",
   "execution_count": 22,
   "metadata": {},
   "outputs": [],
   "source": [
    "modern_root='/root/autodl-tmp/OBSD/data/modern_kanji'\n",
    "with open('/root/autodl-tmp/OBS_dataset/HUST-OBS/deciphered/ID_to_chinese.json','r')as f:   \n",
    "    mp=json.load(f)"
   ]
  },
  {
   "cell_type": "code",
   "execution_count": 29,
   "metadata": {},
   "outputs": [],
   "source": [
    "import os\n",
    "import shutil\n",
    "train_dir='/root/autodl-tmp/OBSD/data/train/'\n",
    "test_dir='/root/autodl-tmp/OBSD/data/test/'\n",
    "for filename in filenames:\n",
    "    ch=mp[filename['id']]\n",
    "    ch_path=os.path.join(modern_root,f'{ch}.png')\n",
    "    if os.path.exists(ch_path):\n",
    "        # print(filename['name'])\n",
    "        # print(train_dir)\n",
    "        save_path_input=os.path.join(train_dir,'input',filename['name'])\n",
    "        save_path_target=os.path.join(train_dir,'target',filename['name'])\n",
    "        shutil.copy(filename['path'],save_path_input)\n",
    "        shutil.copy(ch_path,save_path_target)"
   ]
  },
  {
   "cell_type": "markdown",
   "metadata": {},
   "source": [
    "test set"
   ]
  },
  {
   "cell_type": "code",
   "execution_count": 30,
   "metadata": {},
   "outputs": [],
   "source": [
    "import os\n",
    "import shutil\n",
    "filenames=[]\n",
    "for root,dirs,files in os.walk('/root/autodl-tmp/OBS_dataset/HUST-OBS/undeciphered'):\n",
    "    for file in files:\n",
    "        if file.endswith('.png'):\n",
    "            file_path=os.path.join(root,file)\n",
    "            file_id=file.split('_')[1]\n",
    "            filenames+=[{\n",
    "                'path':file_path,\n",
    "                'name':file\n",
    "            }]\n",
    "\n",
    "test_dir='/root/autodl-tmp/OBSD/data/test/'\n",
    "for filename in filenames:\n",
    "        # print(filename['name'])\n",
    "        # print(train_dir)\n",
    "    save_path_input=os.path.join(test_dir,'input',filename['name'])\n",
    "    shutil.copy(filename['path'],save_path_input)"
   ]
  }
 ],
 "metadata": {
  "kernelspec": {
   "display_name": "llama",
   "language": "python",
   "name": "python3"
  },
  "language_info": {
   "codemirror_mode": {
    "name": "ipython",
    "version": 3
   },
   "file_extension": ".py",
   "mimetype": "text/x-python",
   "name": "python",
   "nbconvert_exporter": "python",
   "pygments_lexer": "ipython3",
   "version": "3.11.9"
  }
 },
 "nbformat": 4,
 "nbformat_minor": 2
}
